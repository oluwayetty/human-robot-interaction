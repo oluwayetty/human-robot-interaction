{
 "cells": [
  {
   "cell_type": "code",
   "execution_count": 13,
   "metadata": {},
   "outputs": [],
   "source": [
    "import spacy\n",
    "import time \n",
    "from gtts import gTTS \n",
    "import speech_recognition as sr\n",
    "from pathlib import Path\n",
    "from pprint import pprint\n",
    "from playsound import playsound\n",
    "import datetime\n",
    "\n",
    "nlp = spacy.load('en_core_web_sm')"
   ]
  },
  {
   "cell_type": "code",
   "execution_count": 5,
   "metadata": {},
   "outputs": [],
   "source": [
    "reg_menu = ['Chicken', 'Burger', 'Salmon']\n",
    "vegetarian_menu = ['Pasta', 'Tacos', 'Chickpea']\n",
    "all_menu = reg_menu + vegetarian_menu\n",
    "\n",
    "words = ['Do','Have','Which','What', 'Do']\n",
    "no_interest = ['nothing', 'none']\n",
    "doc = []\n",
    "list_of_words = []"
   ]
  },
  {
   "cell_type": "markdown",
   "metadata": {},
   "source": [
    "## Beginning of Functions"
   ]
  },
  {
   "cell_type": "code",
   "execution_count": 19,
   "metadata": {},
   "outputs": [],
   "source": [
    "def text_to_speech(mytext, language):\n",
    "    speech = gTTS(text = mytext, lang = language)\n",
    "    date_string = datetime.datetime.now().strftime(\"%d%m%Y%H%M%S\")\n",
    "    filename = \"voice\"+date_string+\".mp3\"    \n",
    "\n",
    "    speech.save(filename)\n",
    "    playsound(filename)"
   ]
  },
  {
   "cell_type": "code",
   "execution_count": 7,
   "metadata": {},
   "outputs": [],
   "source": [
    "def sr_mic():\n",
    "    r = sr.Recognizer()\n",
    "    with sr.Microphone() as source:\n",
    "        print(\"Speak:\")\n",
    "        audio = r.listen(source)\n",
    "        print(\"You said: \" + r.recognize_google(audio))\n",
    "        text = r.recognize_google(audio)\n",
    "        text = text.replace('-', ' ')\n",
    "    return text"
   ]
  },
  {
   "cell_type": "markdown",
   "metadata": {},
   "source": [
    "The welcome_menu() reads the available menu based on the customer preferencee, and further ask them which of the read-out meal(s) they would love to have. Special words like *none*, *nothing* are being detected, and the Robot gives a final message afterwards."
   ]
  },
  {
   "cell_type": "code",
   "execution_count": 8,
   "metadata": {},
   "outputs": [],
   "source": [
    "# function reads the right menu based on customer preference\n",
    "def welcome_menu():\n",
    "    customer_speech = sr_mic()\n",
    "\n",
    "    if \"regular\" in customer_speech:\n",
    "        text_to_speech('Good choice. These are the regular meals for tonight', 'en')\n",
    "        [text_to_speech(meal, 'en') for meal in reg_menu]\n",
    "        text_to_speech(\"Which would you love to have?\", 'en')\n",
    "        return \"regular\"\n",
    "    elif \"vegetarian\" in customer_speech:\n",
    "        text_to_speech('Okay, these are the vegetarian meals we have', 'en')\n",
    "        [text_to_speech(meal, 'en') for meal in vegetarian_menu]\n",
    "        text_to_speech(\"Which would you love to have?\", 'en')\n",
    "        return \"vegetarian\"\n",
    "    elif any(word in customer_speech for word in no_interest):\n",
    "        text_to_speech(\"Thanks for stopping by. We hope to see you again soon\", 'en')"
   ]
  },
  {
   "cell_type": "code",
   "execution_count": 9,
   "metadata": {},
   "outputs": [],
   "source": [
    "def repeat_menu():\n",
    "    text_to_speech('Here is what we have for Regular meals ', 'en')\n",
    "    for meal in reg_menu:\n",
    "        text_to_speech(meal, 'en')\n",
    "\n",
    "    text_to_speech('Here is what we have for Vegetarian meals ', 'en')\n",
    "    for meal in vegetarian_menu:\n",
    "        text_to_speech(meal, 'en')\n",
    "        \n",
    "    text_to_speech('What would you like?', 'en')"
   ]
  },
  {
   "cell_type": "markdown",
   "metadata": {},
   "source": [
    "The take_customer_order() function takes in an argument which is the customer speech. This sentence is then processed in order to use the spacy pasrer tool to distinguish *parts of the speech* of the sentence. Since we know food belongs to either *NOUN* or *PROPN*. We take this advantage of Part-of-speech tagging to identify the meals from the Customer speech, and we also do an extra check to confirm the meal can be found in our list of Available meals."
   ]
  },
  {
   "cell_type": "code",
   "execution_count": 10,
   "metadata": {},
   "outputs": [],
   "source": [
    "# function that takes order from customer\n",
    "def take_customer_order(customer_speech):\n",
    "    global list_of_words\n",
    "    list_of_words = []\n",
    "    doc = nlp(customer_speech)\n",
    "    spacy.displacy.render(doc, style='dep', jupyter=True)\n",
    "    \n",
    "    for possible_subject in doc:\n",
    "        print(\"doc --\", possible_subject.pos_)\n",
    "        if ((possible_subject.pos_ == 'NOUN' or possible_subject.pos_ == 'PROPN') and possible_subject.text.title() in all_menu):\n",
    "            list_of_words.append(possible_subject.text.title())\n",
    "\n",
    "    if(len(list_of_words) == 0):\n",
    "        for word in doc:\n",
    "            if(word.text.title() in words):\n",
    "                list_of_words.append(word.text.title())\n",
    "                break\n",
    "\n",
    "    if(len(list_of_words) == 0):\n",
    "        for word in doc:\n",
    "            list_of_words.append(word.text.title())\n",
    "            break\n",
    "\n",
    "    list_of_words = list(set(list_of_words))\n",
    "    print(\"Menus \", list_of_words)\n",
    "    return doc\n"
   ]
  },
  {
   "cell_type": "markdown",
   "metadata": {},
   "source": [
    "The confirm_customer_order() is the final function invoked to prepare the customer order and serve them their meal. In the case where "
   ]
  },
  {
   "cell_type": "code",
   "execution_count": 11,
   "metadata": {},
   "outputs": [],
   "source": [
    "def confirm_customer_order():\n",
    "    global list_of_words\n",
    "    #Handling multiple orders\n",
    "    orders = [] \n",
    "\n",
    "    for meal in list_of_words:\n",
    "        # verify the preference belongs to the right menu category\n",
    "        if (order_preference == 'regular' and meal in reg_menu) or (order_preference == 'vegetarian' and meal in vegetarian_menu):\n",
    "            orders.append(meal)\n",
    "            \n",
    "        # misplaced meal\n",
    "        elif (order_preference == 'regular' and meal in vegetarian_menu) or (order_preference == 'vegetarian' and meal in reg_menu):\n",
    "            text_to_speech('You have made the wrong order, please try again','en')\n",
    "            order = sr_mic()\n",
    "            take_customer_order(order)\n",
    "            confirm_customer_order()\n",
    "\n",
    "    if len(orders) > 1:\n",
    "        speechoutput = \" and \".join(str(x) for x in orders)\n",
    "        text_to_speech('Here are your '+ speechoutput, 'en')\n",
    "        text_to_speech('Enjoy your meal!', 'en')\n",
    "        print('Here are your '+ speechoutput)\n",
    "        print('Enjoy your meal!')\n",
    "        return True\n",
    "\n",
    "    for meal in list_of_words:\n",
    "        #If the meal the customer ordered is available\n",
    "        if meal in all_menu:\n",
    "            print('You want ', meal)\n",
    "            text_to_speech('Here is your '+ meal, 'en')\n",
    "            text_to_speech('Enjoy your meal!', 'en')\n",
    "            print('Here is your '+ meal)\n",
    "            print('Enjoy your meal!')\n",
    "            break;\n",
    "\n",
    "        #If customer asks about the meals again or not sure of what to have\n",
    "        elif meal in words:\n",
    "            repeat_menu()\n",
    "            list_of_words = []\n",
    "            order = sr_mic()\n",
    "            take_customer_order(order)\n",
    "            confirm_customer_order()\n",
    "            break\n",
    "\n",
    "        #If customer doesn't want the available meals\n",
    "        elif meal in no_interest:\n",
    "            list_of_words = []\n",
    "            text_to_speech('Thanks for stopping by. We hope to see you again soon', 'en')\n",
    "            break\n",
    "\n",
    "        #If customer request for something that is not available in the menu list\n",
    "        elif meal not in all_menu and words:\n",
    "            print('I\\'m sorry but we don\\'t have '+meal)\n",
    "            text_to_speech('I\\'m sorry We don\\'t have '+meal, 'en')\n",
    "            repeat_menu()\n",
    "            list_of_words = []\n",
    "            order = sr_mic()\n",
    "            take_customer_order(order)\n",
    "            confirm_customer_order()\n",
    "            break"
   ]
  },
  {
   "cell_type": "markdown",
   "metadata": {},
   "source": [
    "# Beginning of User Interaction\n"
   ]
  },
  {
   "cell_type": "code",
   "execution_count": 146,
   "metadata": {},
   "outputs": [],
   "source": [
    "speech = 'Hello! Welcome to Hard rock cafe. Would you like our Regular or Vegetarian menu?'\n",
    "text_to_speech(speech, 'en')"
   ]
  },
  {
   "cell_type": "markdown",
   "metadata": {},
   "source": [
    "### USER INTERACTION:\n",
    "\n",
    "You have to tell the Robot your preference, i.e if you want the regular or vegetarian menu"
   ]
  },
  {
   "cell_type": "code",
   "execution_count": 24,
   "metadata": {},
   "outputs": [
    {
     "name": "stdout",
     "output_type": "stream",
     "text": [
      "Speak:\n",
      "You said: I want regular\n",
      "Order preference is regular\n"
     ]
    }
   ],
   "source": [
    "order_preference = welcome_menu()\n",
    "print(\"Order preference is\", order_preference)"
   ]
  },
  {
   "cell_type": "markdown",
   "metadata": {},
   "source": [
    "### USER INTERACTION:\n",
    "\n",
    "Now, you have to pick the options from the menu list that the Robot read out. SPACY parser draws the dependency trees for user' sentence to give a better understanding of the sentence."
   ]
  },
  {
   "cell_type": "code",
   "execution_count": 27,
   "metadata": {},
   "outputs": [
    {
     "name": "stdout",
     "output_type": "stream",
     "text": [
      "Speak:\n",
      "You said: burger and Chicken please\n"
     ]
    },
    {
     "data": {
      "text/html": [
       "<svg xmlns=\"http://www.w3.org/2000/svg\" xmlns:xlink=\"http://www.w3.org/1999/xlink\" xml:lang=\"en\" id=\"5ee5ef7bcfe349b7a52ece3e00345920-0\" class=\"displacy\" width=\"750\" height=\"399.5\" direction=\"ltr\" style=\"max-width: none; height: 399.5px; color: #000000; background: #ffffff; font-family: Arial; direction: ltr\">\n",
       "<text class=\"displacy-token\" fill=\"currentColor\" text-anchor=\"middle\" y=\"309.5\">\n",
       "    <tspan class=\"displacy-word\" fill=\"currentColor\" x=\"50\">burger</tspan>\n",
       "    <tspan class=\"displacy-tag\" dy=\"2em\" fill=\"currentColor\" x=\"50\">PROPN</tspan>\n",
       "</text>\n",
       "\n",
       "<text class=\"displacy-token\" fill=\"currentColor\" text-anchor=\"middle\" y=\"309.5\">\n",
       "    <tspan class=\"displacy-word\" fill=\"currentColor\" x=\"225\">and</tspan>\n",
       "    <tspan class=\"displacy-tag\" dy=\"2em\" fill=\"currentColor\" x=\"225\">CCONJ</tspan>\n",
       "</text>\n",
       "\n",
       "<text class=\"displacy-token\" fill=\"currentColor\" text-anchor=\"middle\" y=\"309.5\">\n",
       "    <tspan class=\"displacy-word\" fill=\"currentColor\" x=\"400\">Chicken</tspan>\n",
       "    <tspan class=\"displacy-tag\" dy=\"2em\" fill=\"currentColor\" x=\"400\">PROPN</tspan>\n",
       "</text>\n",
       "\n",
       "<text class=\"displacy-token\" fill=\"currentColor\" text-anchor=\"middle\" y=\"309.5\">\n",
       "    <tspan class=\"displacy-word\" fill=\"currentColor\" x=\"575\">please</tspan>\n",
       "    <tspan class=\"displacy-tag\" dy=\"2em\" fill=\"currentColor\" x=\"575\">INTJ</tspan>\n",
       "</text>\n",
       "\n",
       "<g class=\"displacy-arrow\">\n",
       "    <path class=\"displacy-arc\" id=\"arrow-5ee5ef7bcfe349b7a52ece3e00345920-0-0\" stroke-width=\"2px\" d=\"M70,264.5 C70,177.0 215.0,177.0 215.0,264.5\" fill=\"none\" stroke=\"currentColor\"/>\n",
       "    <text dy=\"1.25em\" style=\"font-size: 0.8em; letter-spacing: 1px\">\n",
       "        <textPath xlink:href=\"#arrow-5ee5ef7bcfe349b7a52ece3e00345920-0-0\" class=\"displacy-label\" startOffset=\"50%\" side=\"left\" fill=\"currentColor\" text-anchor=\"middle\">cc</textPath>\n",
       "    </text>\n",
       "    <path class=\"displacy-arrowhead\" d=\"M215.0,266.5 L223.0,254.5 207.0,254.5\" fill=\"currentColor\"/>\n",
       "</g>\n",
       "\n",
       "<g class=\"displacy-arrow\">\n",
       "    <path class=\"displacy-arc\" id=\"arrow-5ee5ef7bcfe349b7a52ece3e00345920-0-1\" stroke-width=\"2px\" d=\"M70,264.5 C70,89.5 395.0,89.5 395.0,264.5\" fill=\"none\" stroke=\"currentColor\"/>\n",
       "    <text dy=\"1.25em\" style=\"font-size: 0.8em; letter-spacing: 1px\">\n",
       "        <textPath xlink:href=\"#arrow-5ee5ef7bcfe349b7a52ece3e00345920-0-1\" class=\"displacy-label\" startOffset=\"50%\" side=\"left\" fill=\"currentColor\" text-anchor=\"middle\">conj</textPath>\n",
       "    </text>\n",
       "    <path class=\"displacy-arrowhead\" d=\"M395.0,266.5 L403.0,254.5 387.0,254.5\" fill=\"currentColor\"/>\n",
       "</g>\n",
       "\n",
       "<g class=\"displacy-arrow\">\n",
       "    <path class=\"displacy-arc\" id=\"arrow-5ee5ef7bcfe349b7a52ece3e00345920-0-2\" stroke-width=\"2px\" d=\"M70,264.5 C70,2.0 575.0,2.0 575.0,264.5\" fill=\"none\" stroke=\"currentColor\"/>\n",
       "    <text dy=\"1.25em\" style=\"font-size: 0.8em; letter-spacing: 1px\">\n",
       "        <textPath xlink:href=\"#arrow-5ee5ef7bcfe349b7a52ece3e00345920-0-2\" class=\"displacy-label\" startOffset=\"50%\" side=\"left\" fill=\"currentColor\" text-anchor=\"middle\">punct</textPath>\n",
       "    </text>\n",
       "    <path class=\"displacy-arrowhead\" d=\"M575.0,266.5 L583.0,254.5 567.0,254.5\" fill=\"currentColor\"/>\n",
       "</g>\n",
       "</svg>"
      ],
      "text/plain": [
       "<IPython.core.display.HTML object>"
      ]
     },
     "metadata": {},
     "output_type": "display_data"
    },
    {
     "name": "stdout",
     "output_type": "stream",
     "text": [
      "doc -- PROPN\n",
      "doc -- CCONJ\n",
      "doc -- PROPN\n",
      "doc -- INTJ\n",
      "Menus  ['Burger', 'Chicken']\n"
     ]
    }
   ],
   "source": [
    "customer_speech = sr_mic()\n",
    "customer_order = take_customer_order(customer_speech)"
   ]
  },
  {
   "cell_type": "code",
   "execution_count": 28,
   "metadata": {},
   "outputs": [
    {
     "name": "stdout",
     "output_type": "stream",
     "text": [
      "burger and Chicken please\n",
      "['Burger', 'Chicken']\n"
     ]
    }
   ],
   "source": [
    "print(customer_order)    \n",
    "print(list_of_words)"
   ]
  },
  {
   "cell_type": "markdown",
   "metadata": {},
   "source": [
    "The robot confirms the order, and brings the meal to the customer table."
   ]
  },
  {
   "cell_type": "code",
   "execution_count": 29,
   "metadata": {},
   "outputs": [
    {
     "name": "stdout",
     "output_type": "stream",
     "text": [
      "Here are your Burger and Chicken\n",
      "Enjoy your meal!\n"
     ]
    },
    {
     "data": {
      "text/plain": [
       "True"
      ]
     },
     "execution_count": 29,
     "metadata": {},
     "output_type": "execute_result"
    }
   ],
   "source": [
    "confirm_customer_order()"
   ]
  },
  {
   "cell_type": "code",
   "execution_count": null,
   "metadata": {},
   "outputs": [],
   "source": []
  }
 ],
 "metadata": {
  "kernelspec": {
   "display_name": "Python 3",
   "language": "python",
   "name": "python3"
  },
  "language_info": {
   "codemirror_mode": {
    "name": "ipython",
    "version": 3
   },
   "file_extension": ".py",
   "mimetype": "text/x-python",
   "name": "python",
   "nbconvert_exporter": "python",
   "pygments_lexer": "ipython3",
   "version": "3.7.4"
  }
 },
 "nbformat": 4,
 "nbformat_minor": 2
}
